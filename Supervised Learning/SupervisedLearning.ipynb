{
    "metadata": {
        "kernelspec": {
            "name": "python3",
            "display_name": "Python 3 (ipykernel)",
            "language": "python"
        }
    },
    "nbformat": 4,
    "nbformat_minor": 2,
    "cells": [
        {
            "attachments": {},
            "cell_type": "markdown",
            "metadata": {},
            "source": [
                "# **Supervised Learning with Decision Trees**"
            ]
        },
        {
            "attachments": {},
            "cell_type": "markdown",
            "metadata": {},
            "source": [
                "In this lab, you will get an introduction to supervised learning by solving a classification problem using **decision trees**.\n",
                "\n",
                "Please open [this tutorial](https://youtu.be/7eh4d6sabA0) to follow the steps in this notebook.\n",
                "This is a one hour tutorial, in which you will learn how to process a data set and use it to make predictions in a classification problem.\n",
                "\n",
                "In the tutorial, the author installs Jupyter and supporting softwares. These are pre-installed in EdStem, so you will not need to follow those steps.\n",
                "\n",
                "**Saturn shortcuts**\n",
                "\n",
                "Press *Ctrl+return* to run each section separately. Please note that some sections depend on the previous sections, and run them in order.\n",
                "You can run the whole program at once, buy clicking the *Run All* button.\n",
                "\n",
                "\n",
                "\n",
                "---\n",
                "\n",
                ""
            ]
        },
        {
            "attachments": {},
            "cell_type": "markdown",
            "metadata": {},
            "source": [
                "# Theory: Important libraries\n",
                "\n",
                "In programming, libraries are collections of prewritten code that allow you to optimize tasks by not having to write all the code yourself. In the tutorial, a few libraries are mentioned that are helpful in coding machine learning algorithms."
            ]
        },
        {
            "attachments": {},
            "cell_type": "markdown",
            "metadata": {},
            "source": [
                "***Check point***"
            ]
        },
        {
            "attachments": {},
            "cell_type": "markdown",
            "metadata": {},
            "source": [
                "\n",
                "\n",
                "1. Provides a multi-dimensional array\n",
                "2. Data analysis library that provides a data frame\n",
                "3. 2-dimensional library for ploting library for creating graphs and plots\n",
                "4. Provides all the common libraries like Decision Tree\n",
                "5. Popular machine learning project editor that makes it easy to inspect the data\n",
                "6. Test\n",
                ""
            ]
        },
        {
            "attachments": {},
            "cell_type": "markdown",
            "metadata": {},
            "source": [
                "**In parentheses, write the number corresponding to the right item in the listing above as shown in the test example**\n",
                "* pandas (2)\n",
                "* matplotlib (3)\n",
                "* sklearn (4)\n",
                "* jupyter (5)\n",
                "* numpy (1)\n",
                "* test (**6**)\n",
                ""
            ]
        },
        {
            "attachments": {},
            "cell_type": "markdown",
            "metadata": {},
            "source": [
                "Note: skip the installation and setup of jupyter"
            ]
        },
        {
            "attachments": {},
            "cell_type": "markdown",
            "metadata": {},
            "source": [
                "# Warm Up: Data Frames\n",
                "Go to kaggle.com and sign up with your gmail account. This will be helpful in Lab II where you will need to upload your own data set. This week, all data files have been provided for you.\n",
                "\n",
                "The files relevant to supervised learning are *vgsales.csv* and *music.csv* saved in the SupervisedLearning folder."
            ]
        },
        {
            "attachments": {},
            "cell_type": "markdown",
            "metadata": {},
            "source": [
                "To warm up, let's explore the file vgsales.csv. Feel free to try other methods here like head(), len() and list()."
            ]
        },
        {
            "cell_type": "code",
            "execution_count": 2,
            "metadata": {},
            "outputs": [],
            "source": [
                "# Importing the pandas module to process data files\n",
                "import pandas as pd\n",
                "\n",
                "# Using pandas to read in the input file, vgsales.csv saved under SupervisedLearning.\n",
                "# The data file is saved in the data frame object named 'df'\n",
                "df = pd.read_csv('SupervisedLearning/vgsales.csv')"
            ]
        },
        {
            "attachments": {},
            "cell_type": "markdown",
            "metadata": {},
            "source": [
                "Use this space to try different methods that inform you about the data set. Run the section to see the details."
            ]
        },
        {
            "cell_type": "code",
            "execution_count": 3,
            "metadata": {},
            "outputs": [
                {
                    "data": {
                        "text/html": "\u003cdiv\u003e\n\u003cstyle scoped\u003e\n    .dataframe tbody tr th:only-of-type {\n        vertical-align: middle;\n    }\n\n    .dataframe tbody tr th {\n        vertical-align: top;\n    }\n\n    .dataframe thead th {\n        text-align: right;\n    }\n\u003c/style\u003e\n\u003ctable border=\"1\" class=\"dataframe\"\u003e\n  \u003cthead\u003e\n    \u003ctr style=\"text-align: right;\"\u003e\n      \u003cth\u003e\u003c/th\u003e\n      \u003cth\u003eRank\u003c/th\u003e\n      \u003cth\u003eName\u003c/th\u003e\n      \u003cth\u003ePlatform\u003c/th\u003e\n      \u003cth\u003eYear\u003c/th\u003e\n      \u003cth\u003eGenre\u003c/th\u003e\n      \u003cth\u003ePublisher\u003c/th\u003e\n      \u003cth\u003eNA_Sales\u003c/th\u003e\n      \u003cth\u003eEU_Sales\u003c/th\u003e\n      \u003cth\u003eJP_Sales\u003c/th\u003e\n      \u003cth\u003eOther_Sales\u003c/th\u003e\n      \u003cth\u003eGlobal_Sales\u003c/th\u003e\n    \u003c/tr\u003e\n  \u003c/thead\u003e\n  \u003ctbody\u003e\n    \u003ctr\u003e\n      \u003cth\u003e0\u003c/th\u003e\n      \u003ctd\u003e259\u003c/td\u003e\n      \u003ctd\u003eAsteroids\u003c/td\u003e\n      \u003ctd\u003e2600\u003c/td\u003e\n      \u003ctd\u003e1980\u003c/td\u003e\n      \u003ctd\u003eShooter\u003c/td\u003e\n      \u003ctd\u003eAtari\u003c/td\u003e\n      \u003ctd\u003e4.00\u003c/td\u003e\n      \u003ctd\u003e0.26\u003c/td\u003e\n      \u003ctd\u003e0\u003c/td\u003e\n      \u003ctd\u003e0.05\u003c/td\u003e\n      \u003ctd\u003e4.31\u003c/td\u003e\n    \u003c/tr\u003e\n    \u003ctr\u003e\n      \u003cth\u003e1\u003c/th\u003e\n      \u003ctd\u003e545\u003c/td\u003e\n      \u003ctd\u003eMissile Command\u003c/td\u003e\n      \u003ctd\u003e2600\u003c/td\u003e\n      \u003ctd\u003e1980\u003c/td\u003e\n      \u003ctd\u003eShooter\u003c/td\u003e\n      \u003ctd\u003eAtari\u003c/td\u003e\n      \u003ctd\u003e2.56\u003c/td\u003e\n      \u003ctd\u003e0.17\u003c/td\u003e\n      \u003ctd\u003e0\u003c/td\u003e\n      \u003ctd\u003e0.03\u003c/td\u003e\n      \u003ctd\u003e2.76\u003c/td\u003e\n    \u003c/tr\u003e\n    \u003ctr\u003e\n      \u003cth\u003e2\u003c/th\u003e\n      \u003ctd\u003e1768\u003c/td\u003e\n      \u003ctd\u003eKaboom!\u003c/td\u003e\n      \u003ctd\u003e2600\u003c/td\u003e\n      \u003ctd\u003e1980\u003c/td\u003e\n      \u003ctd\u003eMisc\u003c/td\u003e\n      \u003ctd\u003eActivision\u003c/td\u003e\n      \u003ctd\u003e1.07\u003c/td\u003e\n      \u003ctd\u003e0.07\u003c/td\u003e\n      \u003ctd\u003e0\u003c/td\u003e\n      \u003ctd\u003e0.01\u003c/td\u003e\n      \u003ctd\u003e1.15\u003c/td\u003e\n    \u003c/tr\u003e\n    \u003ctr\u003e\n      \u003cth\u003e3\u003c/th\u003e\n      \u003ctd\u003e1971\u003c/td\u003e\n      \u003ctd\u003eDefender\u003c/td\u003e\n      \u003ctd\u003e2600\u003c/td\u003e\n      \u003ctd\u003e1980\u003c/td\u003e\n      \u003ctd\u003eMisc\u003c/td\u003e\n      \u003ctd\u003eAtari\u003c/td\u003e\n      \u003ctd\u003e0.99\u003c/td\u003e\n      \u003ctd\u003e0.05\u003c/td\u003e\n      \u003ctd\u003e0\u003c/td\u003e\n      \u003ctd\u003e0.01\u003c/td\u003e\n      \u003ctd\u003e1.05\u003c/td\u003e\n    \u003c/tr\u003e\n    \u003ctr\u003e\n      \u003cth\u003e4\u003c/th\u003e\n      \u003ctd\u003e2671\u003c/td\u003e\n      \u003ctd\u003eBoxing\u003c/td\u003e\n      \u003ctd\u003e2600\u003c/td\u003e\n      \u003ctd\u003e1980\u003c/td\u003e\n      \u003ctd\u003eFighting\u003c/td\u003e\n      \u003ctd\u003eActivision\u003c/td\u003e\n      \u003ctd\u003e0.72\u003c/td\u003e\n      \u003ctd\u003e0.04\u003c/td\u003e\n      \u003ctd\u003e0\u003c/td\u003e\n      \u003ctd\u003e0.01\u003c/td\u003e\n      \u003ctd\u003e0.77\u003c/td\u003e\n    \u003c/tr\u003e\n    \u003ctr\u003e\n      \u003cth\u003e5\u003c/th\u003e\n      \u003ctd\u003e4027\u003c/td\u003e\n      \u003ctd\u003eIce Hockey\u003c/td\u003e\n      \u003ctd\u003e2600\u003c/td\u003e\n      \u003ctd\u003e1980\u003c/td\u003e\n      \u003ctd\u003eSports\u003c/td\u003e\n      \u003ctd\u003eActivision\u003c/td\u003e\n      \u003ctd\u003e0.46\u003c/td\u003e\n      \u003ctd\u003e0.03\u003c/td\u003e\n      \u003ctd\u003e0\u003c/td\u003e\n      \u003ctd\u003e0.01\u003c/td\u003e\n      \u003ctd\u003e0.49\u003c/td\u003e\n    \u003c/tr\u003e\n    \u003ctr\u003e\n      \u003cth\u003e6\u003c/th\u003e\n      \u003ctd\u003e5368\u003c/td\u003e\n      \u003ctd\u003eFreeway\u003c/td\u003e\n      \u003ctd\u003e2600\u003c/td\u003e\n      \u003ctd\u003e1980\u003c/td\u003e\n      \u003ctd\u003eAction\u003c/td\u003e\n      \u003ctd\u003eActivision\u003c/td\u003e\n      \u003ctd\u003e0.32\u003c/td\u003e\n      \u003ctd\u003e0.02\u003c/td\u003e\n      \u003ctd\u003e0\u003c/td\u003e\n      \u003ctd\u003e0.00\u003c/td\u003e\n      \u003ctd\u003e0.34\u003c/td\u003e\n    \u003c/tr\u003e\n    \u003ctr\u003e\n      \u003cth\u003e7\u003c/th\u003e\n      \u003ctd\u003e6319\u003c/td\u003e\n      \u003ctd\u003eBridge\u003c/td\u003e\n      \u003ctd\u003e2600\u003c/td\u003e\n      \u003ctd\u003e1980\u003c/td\u003e\n      \u003ctd\u003eMisc\u003c/td\u003e\n      \u003ctd\u003eActivision\u003c/td\u003e\n      \u003ctd\u003e0.25\u003c/td\u003e\n      \u003ctd\u003e0.02\u003c/td\u003e\n      \u003ctd\u003e0\u003c/td\u003e\n      \u003ctd\u003e0.00\u003c/td\u003e\n      \u003ctd\u003e0.27\u003c/td\u003e\n    \u003c/tr\u003e\n    \u003ctr\u003e\n      \u003cth\u003e8\u003c/th\u003e\n      \u003ctd\u003e6898\u003c/td\u003e\n      \u003ctd\u003eCheckers\u003c/td\u003e\n      \u003ctd\u003e2600\u003c/td\u003e\n      \u003ctd\u003e1980\u003c/td\u003e\n      \u003ctd\u003eMisc\u003c/td\u003e\n      \u003ctd\u003eAtari\u003c/td\u003e\n      \u003ctd\u003e0.22\u003c/td\u003e\n      \u003ctd\u003e0.01\u003c/td\u003e\n      \u003ctd\u003e0\u003c/td\u003e\n      \u003ctd\u003e0.00\u003c/td\u003e\n      \u003ctd\u003e0.24\u003c/td\u003e\n    \u003c/tr\u003e\n    \u003ctr\u003e\n      \u003cth\u003e9\u003c/th\u003e\n      \u003ctd\u003e240\u003c/td\u003e\n      \u003ctd\u003ePitfall!\u003c/td\u003e\n      \u003ctd\u003e2600\u003c/td\u003e\n      \u003ctd\u003e1981\u003c/td\u003e\n      \u003ctd\u003ePlatform\u003c/td\u003e\n      \u003ctd\u003eActivision\u003c/td\u003e\n      \u003ctd\u003e4.21\u003c/td\u003e\n      \u003ctd\u003e0.24\u003c/td\u003e\n      \u003ctd\u003e0\u003c/td\u003e\n      \u003ctd\u003e0.05\u003c/td\u003e\n      \u003ctd\u003e4.50\u003c/td\u003e\n    \u003c/tr\u003e\n    \u003ctr\u003e\n      \u003cth\u003e10\u003c/th\u003e\n      \u003ctd\u003e736\u003c/td\u003e\n      \u003ctd\u003eFrogger\u003c/td\u003e\n      \u003ctd\u003e2600\u003c/td\u003e\n      \u003ctd\u003e1981\u003c/td\u003e\n      \u003ctd\u003eAction\u003c/td\u003e\n      \u003ctd\u003eParker Bros.\u003c/td\u003e\n      \u003ctd\u003e2.06\u003c/td\u003e\n      \u003ctd\u003e0.12\u003c/td\u003e\n      \u003ctd\u003e0\u003c/td\u003e\n      \u003ctd\u003e0.02\u003c/td\u003e\n      \u003ctd\u003e2.20\u003c/td\u003e\n    \u003c/tr\u003e\n    \u003ctr\u003e\n      \u003cth\u003e11\u003c/th\u003e\n      \u003ctd\u003e768\u003c/td\u003e\n      \u003ctd\u003eDemon Attack\u003c/td\u003e\n      \u003ctd\u003e2600\u003c/td\u003e\n      \u003ctd\u003e1981\u003c/td\u003e\n      \u003ctd\u003eShooter\u003c/td\u003e\n      \u003ctd\u003eImagic\u003c/td\u003e\n      \u003ctd\u003e1.99\u003c/td\u003e\n      \u003ctd\u003e0.12\u003c/td\u003e\n      \u003ctd\u003e0\u003c/td\u003e\n      \u003ctd\u003e0.02\u003c/td\u003e\n      \u003ctd\u003e2.13\u003c/td\u003e\n    \u003c/tr\u003e\n    \u003ctr\u003e\n      \u003cth\u003e12\u003c/th\u003e\n      \u003ctd\u003e866\u003c/td\u003e\n      \u003ctd\u003eE.T.: The Extra Terrestrial\u003c/td\u003e\n      \u003ctd\u003e2600\u003c/td\u003e\n      \u003ctd\u003e1981\u003c/td\u003e\n      \u003ctd\u003eAction\u003c/td\u003e\n      \u003ctd\u003eAtari\u003c/td\u003e\n      \u003ctd\u003e1.84\u003c/td\u003e\n      \u003ctd\u003e0.11\u003c/td\u003e\n      \u003ctd\u003e0\u003c/td\u003e\n      \u003ctd\u003e0.02\u003c/td\u003e\n      \u003ctd\u003e1.97\u003c/td\u003e\n    \u003c/tr\u003e\n    \u003ctr\u003e\n      \u003cth\u003e13\u003c/th\u003e\n      \u003ctd\u003e1108\u003c/td\u003e\n      \u003ctd\u003eMs. Pac-Man\u003c/td\u003e\n      \u003ctd\u003e2600\u003c/td\u003e\n      \u003ctd\u003e1981\u003c/td\u003e\n      \u003ctd\u003ePuzzle\u003c/td\u003e\n      \u003ctd\u003eAtari\u003c/td\u003e\n      \u003ctd\u003e1.54\u003c/td\u003e\n      \u003ctd\u003e0.10\u003c/td\u003e\n      \u003ctd\u003e0\u003c/td\u003e\n      \u003ctd\u003e0.02\u003c/td\u003e\n      \u003ctd\u003e1.65\u003c/td\u003e\n    \u003c/tr\u003e\n    \u003ctr\u003e\n      \u003cth\u003e14\u003c/th\u003e\n      \u003ctd\u003e1155\u003c/td\u003e\n      \u003ctd\u003eRiver Raid\u003c/td\u003e\n      \u003ctd\u003e2600\u003c/td\u003e\n      \u003ctd\u003e1981\u003c/td\u003e\n      \u003ctd\u003eShooter\u003c/td\u003e\n      \u003ctd\u003eActivision\u003c/td\u003e\n      \u003ctd\u003e1.49\u003c/td\u003e\n      \u003ctd\u003e0.09\u003c/td\u003e\n      \u003ctd\u003e0\u003c/td\u003e\n      \u003ctd\u003e0.02\u003c/td\u003e\n      \u003ctd\u003e1.60\u003c/td\u003e\n    \u003c/tr\u003e\n    \u003ctr\u003e\n      \u003cth\u003e15\u003c/th\u003e\n      \u003ctd\u003e1308\u003c/td\u003e\n      \u003ctd\u003eDonkey Kong\u003c/td\u003e\n      \u003ctd\u003e2600\u003c/td\u003e\n      \u003ctd\u003e1981\u003c/td\u003e\n      \u003ctd\u003ePlatform\u003c/td\u003e\n      \u003ctd\u003eColeco\u003c/td\u003e\n      \u003ctd\u003e1.36\u003c/td\u003e\n      \u003ctd\u003e0.08\u003c/td\u003e\n      \u003ctd\u003e0\u003c/td\u003e\n      \u003ctd\u003e0.02\u003c/td\u003e\n      \u003ctd\u003e1.46\u003c/td\u003e\n    \u003c/tr\u003e\n    \u003ctr\u003e\n      \u003cth\u003e16\u003c/th\u003e\n      \u003ctd\u003e1431\u003c/td\u003e\n      \u003ctd\u003eCentipede\u003c/td\u003e\n      \u003ctd\u003e2600\u003c/td\u003e\n      \u003ctd\u003e1981\u003c/td\u003e\n      \u003ctd\u003eShooter\u003c/td\u003e\n      \u003ctd\u003eAtari\u003c/td\u003e\n      \u003ctd\u003e1.26\u003c/td\u003e\n      \u003ctd\u003e0.08\u003c/td\u003e\n      \u003ctd\u003e0\u003c/td\u003e\n      \u003ctd\u003e0.01\u003c/td\u003e\n      \u003ctd\u003e1.36\u003c/td\u003e\n    \u003c/tr\u003e\n    \u003ctr\u003e\n      \u003cth\u003e17\u003c/th\u003e\n      \u003ctd\u003e1558\u003c/td\u003e\n      \u003ctd\u003eAtlantis\u003c/td\u003e\n      \u003ctd\u003e2600\u003c/td\u003e\n      \u003ctd\u003e1981\u003c/td\u003e\n      \u003ctd\u003eShooter\u003c/td\u003e\n      \u003ctd\u003eImagic\u003c/td\u003e\n      \u003ctd\u003e1.18\u003c/td\u003e\n      \u003ctd\u003e0.08\u003c/td\u003e\n      \u003ctd\u003e0\u003c/td\u003e\n      \u003ctd\u003e0.01\u003c/td\u003e\n      \u003ctd\u003e1.27\u003c/td\u003e\n    \u003c/tr\u003e\n    \u003ctr\u003e\n      \u003cth\u003e18\u003c/th\u003e\n      \u003ctd\u003e1850\u003c/td\u003e\n      \u003ctd\u003eMegamania\u003c/td\u003e\n      \u003ctd\u003e2600\u003c/td\u003e\n      \u003ctd\u003e1981\u003c/td\u003e\n      \u003ctd\u003eShooter\u003c/td\u003e\n      \u003ctd\u003eActivision\u003c/td\u003e\n      \u003ctd\u003e1.03\u003c/td\u003e\n      \u003ctd\u003e0.06\u003c/td\u003e\n      \u003ctd\u003e0\u003c/td\u003e\n      \u003ctd\u003e0.01\u003c/td\u003e\n      \u003ctd\u003e1.10\u003c/td\u003e\n    \u003c/tr\u003e\n    \u003ctr\u003e\n      \u003cth\u003e19\u003c/th\u003e\n      \u003ctd\u003e1967\u003c/td\u003e\n      \u003ctd\u003eCosmic Ark\u003c/td\u003e\n      \u003ctd\u003e2600\u003c/td\u003e\n      \u003ctd\u003e1981\u003c/td\u003e\n      \u003ctd\u003eShooter\u003c/td\u003e\n      \u003ctd\u003eImagic\u003c/td\u003e\n      \u003ctd\u003e0.99\u003c/td\u003e\n      \u003ctd\u003e0.05\u003c/td\u003e\n      \u003ctd\u003e0\u003c/td\u003e\n      \u003ctd\u003e0.01\u003c/td\u003e\n      \u003ctd\u003e1.05\u003c/td\u003e\n    \u003c/tr\u003e\n    \u003ctr\u003e\n      \u003cth\u003e20\u003c/th\u003e\n      \u003ctd\u003e2145\u003c/td\u003e\n      \u003ctd\u003eDonkey Kong Junior\u003c/td\u003e\n      \u003ctd\u003e2600\u003c/td\u003e\n      \u003ctd\u003e1981\u003c/td\u003e\n      \u003ctd\u003ePlatform\u003c/td\u003e\n      \u003ctd\u003eAtari\u003c/td\u003e\n      \u003ctd\u003e0.90\u003c/td\u003e\n      \u003ctd\u003e0.05\u003c/td\u003e\n      \u003ctd\u003e0\u003c/td\u003e\n      \u003ctd\u003e0.01\u003c/td\u003e\n      \u003ctd\u003e0.97\u003c/td\u003e\n    \u003c/tr\u003e\n    \u003ctr\u003e\n      \u003cth\u003e21\u003c/th\u003e\n      \u003ctd\u003e2234\u003c/td\u003e\n      \u003ctd\u003eSpider-Man\u003c/td\u003e\n      \u003ctd\u003e2600\u003c/td\u003e\n      \u003ctd\u003e1981\u003c/td\u003e\n      \u003ctd\u003eAction\u003c/td\u003e\n      \u003ctd\u003eParker Bros.\u003c/td\u003e\n      \u003ctd\u003e0.87\u003c/td\u003e\n      \u003ctd\u003e0.05\u003c/td\u003e\n      \u003ctd\u003e0\u003c/td\u003e\n      \u003ctd\u003e0.01\u003c/td\u003e\n      \u003ctd\u003e0.93\u003c/td\u003e\n    \u003c/tr\u003e\n    \u003ctr\u003e\n      \u003cth\u003e22\u003c/th\u003e\n      \u003ctd\u003e2518\u003c/td\u003e\n      \u003ctd\u003eCuster's Revenge\u003c/td\u003e\n      \u003ctd\u003e2600\u003c/td\u003e\n      \u003ctd\u003e1981\u003c/td\u003e\n      \u003ctd\u003eAction\u003c/td\u003e\n      \u003ctd\u003eMystique\u003c/td\u003e\n      \u003ctd\u003e0.76\u003c/td\u003e\n      \u003ctd\u003e0.05\u003c/td\u003e\n      \u003ctd\u003e0\u003c/td\u003e\n      \u003ctd\u003e0.01\u003c/td\u003e\n      \u003ctd\u003e0.82\u003c/td\u003e\n    \u003c/tr\u003e\n    \u003ctr\u003e\n      \u003cth\u003e23\u003c/th\u003e\n      \u003ctd\u003e2598\u003c/td\u003e\n      \u003ctd\u003eAlien\u003c/td\u003e\n      \u003ctd\u003e2600\u003c/td\u003e\n      \u003ctd\u003e1981\u003c/td\u003e\n      \u003ctd\u003eAction\u003c/td\u003e\n      \u003ctd\u003e20th Century Fox Video Games\u003c/td\u003e\n      \u003ctd\u003e0.74\u003c/td\u003e\n      \u003ctd\u003e0.04\u003c/td\u003e\n      \u003ctd\u003e0\u003c/td\u003e\n      \u003ctd\u003e0.01\u003c/td\u003e\n      \u003ctd\u003e0.79\u003c/td\u003e\n    \u003c/tr\u003e\n    \u003ctr\u003e\n      \u003cth\u003e24\u003c/th\u003e\n      \u003ctd\u003e2666\u003c/td\u003e\n      \u003ctd\u003eAir Raid\u003c/td\u003e\n      \u003ctd\u003e2600\u003c/td\u003e\n      \u003ctd\u003e1981\u003c/td\u003e\n      \u003ctd\u003eAction\u003c/td\u003e\n      \u003ctd\u003eMen-A-Vision\u003c/td\u003e\n      \u003ctd\u003e0.72\u003c/td\u003e\n      \u003ctd\u003e0.04\u003c/td\u003e\n      \u003ctd\u003e0\u003c/td\u003e\n      \u003ctd\u003e0.01\u003c/td\u003e\n      \u003ctd\u003e0.77\u003c/td\u003e\n    \u003c/tr\u003e\n    \u003ctr\u003e\n      \u003cth\u003e25\u003c/th\u003e\n      \u003ctd\u003e2808\u003c/td\u003e\n      \u003ctd\u003eBerzerk\u003c/td\u003e\n      \u003ctd\u003e2600\u003c/td\u003e\n      \u003ctd\u003e1981\u003c/td\u003e\n      \u003ctd\u003eShooter\u003c/td\u003e\n      \u003ctd\u003eAtari\u003c/td\u003e\n      \u003ctd\u003e0.68\u003c/td\u003e\n      \u003ctd\u003e0.04\u003c/td\u003e\n      \u003ctd\u003e0\u003c/td\u003e\n      \u003ctd\u003e0.01\u003c/td\u003e\n      \u003ctd\u003e0.73\u003c/td\u003e\n    \u003c/tr\u003e\n    \u003ctr\u003e\n      \u003cth\u003e26\u003c/th\u003e\n      \u003ctd\u003e2942\u003c/td\u003e\n      \u003ctd\u003eKing Kong\u003c/td\u003e\n      \u003ctd\u003e2600\u003c/td\u003e\n      \u003ctd\u003e1981\u003c/td\u003e\n      \u003ctd\u003eAction\u003c/td\u003e\n      \u003ctd\u003eTigervision\u003c/td\u003e\n      \u003ctd\u003e0.65\u003c/td\u003e\n      \u003ctd\u003e0.04\u003c/td\u003e\n      \u003ctd\u003e0\u003c/td\u003e\n      \u003ctd\u003e0.01\u003c/td\u003e\n      \u003ctd\u003e0.69\u003c/td\u003e\n    \u003c/tr\u003e\n    \u003ctr\u003e\n      \u003cth\u003e27\u003c/th\u003e\n      \u003ctd\u003e3046\u003c/td\u003e\n      \u003ctd\u003eAdventures of Tron\u003c/td\u003e\n      \u003ctd\u003e2600\u003c/td\u003e\n      \u003ctd\u003e1981\u003c/td\u003e\n      \u003ctd\u003eAction\u003c/td\u003e\n      \u003ctd\u003eMattel Interactive\u003c/td\u003e\n      \u003ctd\u003e0.63\u003c/td\u003e\n      \u003ctd\u003e0.03\u003c/td\u003e\n      \u003ctd\u003e0\u003c/td\u003e\n      \u003ctd\u003e0.01\u003c/td\u003e\n      \u003ctd\u003e0.67\u003c/td\u003e\n    \u003c/tr\u003e\n    \u003ctr\u003e\n      \u003cth\u003e28\u003c/th\u003e\n      \u003ctd\u003e3405\u003c/td\u003e\n      \u003ctd\u003eBurgerTime\u003c/td\u003e\n      \u003ctd\u003e2600\u003c/td\u003e\n      \u003ctd\u003e1981\u003c/td\u003e\n      \u003ctd\u003ePuzzle\u003c/td\u003e\n      \u003ctd\u003eMattel Interactive\u003c/td\u003e\n      \u003ctd\u003e0.55\u003c/td\u003e\n      \u003ctd\u003e0.03\u003c/td\u003e\n      \u003ctd\u003e0\u003c/td\u003e\n      \u003ctd\u003e0.01\u003c/td\u003e\n      \u003ctd\u003e0.59\u003c/td\u003e\n    \u003c/tr\u003e\n    \u003ctr\u003e\n      \u003cth\u003e29\u003c/th\u003e\n      \u003ctd\u003e3410\u003c/td\u003e\n      \u003ctd\u003eSmurf: Rescue In Gargamel's Castle\u003c/td\u003e\n      \u003ctd\u003e2600\u003c/td\u003e\n      \u003ctd\u003e1981\u003c/td\u003e\n      \u003ctd\u003eAction\u003c/td\u003e\n      \u003ctd\u003eColeco\u003c/td\u003e\n      \u003ctd\u003e0.55\u003c/td\u003e\n      \u003ctd\u003e0.03\u003c/td\u003e\n      \u003ctd\u003e0\u003c/td\u003e\n      \u003ctd\u003e0.01\u003c/td\u003e\n      \u003ctd\u003e0.59\u003c/td\u003e\n    \u003c/tr\u003e\n    \u003ctr\u003e\n      \u003cth\u003e30\u003c/th\u003e\n      \u003ctd\u003e4017\u003c/td\u003e\n      \u003ctd\u003eRaiders of the Lost Ark\u003c/td\u003e\n      \u003ctd\u003e2600\u003c/td\u003e\n      \u003ctd\u003e1981\u003c/td\u003e\n      \u003ctd\u003eAction\u003c/td\u003e\n      \u003ctd\u003eAtari\u003c/td\u003e\n      \u003ctd\u003e0.46\u003c/td\u003e\n      \u003ctd\u003e0.03\u003c/td\u003e\n      \u003ctd\u003e0\u003c/td\u003e\n      \u003ctd\u003e0.01\u003c/td\u003e\n      \u003ctd\u003e0.50\u003c/td\u003e\n    \u003c/tr\u003e\n    \u003ctr\u003e\n      \u003cth\u003e31\u003c/th\u003e\n      \u003ctd\u003e4141\u003c/td\u003e\n      \u003ctd\u003eGrand Prix\u003c/td\u003e\n      \u003ctd\u003e2600\u003c/td\u003e\n      \u003ctd\u003e1981\u003c/td\u003e\n      \u003ctd\u003eRacing\u003c/td\u003e\n      \u003ctd\u003eActivision\u003c/td\u003e\n      \u003ctd\u003e0.45\u003c/td\u003e\n      \u003ctd\u003e0.03\u003c/td\u003e\n      \u003ctd\u003e0\u003c/td\u003e\n      \u003ctd\u003e0.00\u003c/td\u003e\n      \u003ctd\u003e0.48\u003c/td\u003e\n    \u003c/tr\u003e\n    \u003ctr\u003e\n      \u003cth\u003e32\u003c/th\u003e\n      \u003ctd\u003e4348\u003c/td\u003e\n      \u003ctd\u003ePhoenix\u003c/td\u003e\n      \u003ctd\u003e2600\u003c/td\u003e\n      \u003ctd\u003e1981\u003c/td\u003e\n      \u003ctd\u003eSimulation\u003c/td\u003e\n      \u003ctd\u003eAtari\u003c/td\u003e\n      \u003ctd\u003e0.42\u003c/td\u003e\n      \u003ctd\u003e0.02\u003c/td\u003e\n      \u003ctd\u003e0\u003c/td\u003e\n      \u003ctd\u003e0.00\u003c/td\u003e\n      \u003ctd\u003e0.45\u003c/td\u003e\n    \u003c/tr\u003e\n    \u003ctr\u003e\n      \u003cth\u003e33\u003c/th\u003e\n      \u003ctd\u003e4404\u003c/td\u003e\n      \u003ctd\u003eJawbreaker\u003c/td\u003e\n      \u003ctd\u003e2600\u003c/td\u003e\n      \u003ctd\u003e1981\u003c/td\u003e\n      \u003ctd\u003eAction\u003c/td\u003e\n      \u003ctd\u003eTigervision\u003c/td\u003e\n      \u003ctd\u003e0.42\u003c/td\u003e\n      \u003ctd\u003e0.03\u003c/td\u003e\n      \u003ctd\u003e0\u003c/td\u003e\n      \u003ctd\u003e0.00\u003c/td\u003e\n      \u003ctd\u003e0.45\u003c/td\u003e\n    \u003c/tr\u003e\n    \u003ctr\u003e\n      \u003cth\u003e34\u003c/th\u003e\n      \u003ctd\u003e4519\u003c/td\u003e\n      \u003ctd\u003eBarnstorming\u003c/td\u003e\n      \u003ctd\u003e2600\u003c/td\u003e\n      \u003ctd\u003e1981\u003c/td\u003e\n      \u003ctd\u003eAction\u003c/td\u003e\n      \u003ctd\u003eActivision\u003c/td\u003e\n      \u003ctd\u003e0.40\u003c/td\u003e\n      \u003ctd\u003e0.02\u003c/td\u003e\n      \u003ctd\u003e0\u003c/td\u003e\n      \u003ctd\u003e0.00\u003c/td\u003e\n      \u003ctd\u003e0.43\u003c/td\u003e\n    \u003c/tr\u003e\n    \u003ctr\u003e\n      \u003cth\u003e35\u003c/th\u003e\n      \u003ctd\u003e4786\u003c/td\u003e\n      \u003ctd\u003eMouse Trap\u003c/td\u003e\n      \u003ctd\u003e2600\u003c/td\u003e\n      \u003ctd\u003e1981\u003c/td\u003e\n      \u003ctd\u003eAction\u003c/td\u003e\n      \u003ctd\u003eColeco\u003c/td\u003e\n      \u003ctd\u003e0.38\u003c/td\u003e\n      \u003ctd\u003e0.02\u003c/td\u003e\n      \u003ctd\u003e0\u003c/td\u003e\n      \u003ctd\u003e0.00\u003c/td\u003e\n      \u003ctd\u003e0.40\u003c/td\u003e\n    \u003c/tr\u003e\n    \u003ctr\u003e\n      \u003cth\u003e36\u003c/th\u003e\n      \u003ctd\u003e4910\u003c/td\u003e\n      \u003ctd\u003eLaser Blast\u003c/td\u003e\n      \u003ctd\u003e2600\u003c/td\u003e\n      \u003ctd\u003e1981\u003c/td\u003e\n      \u003ctd\u003eAction\u003c/td\u003e\n      \u003ctd\u003eActivision\u003c/td\u003e\n      \u003ctd\u003e0.37\u003c/td\u003e\n      \u003ctd\u003e0.02\u003c/td\u003e\n      \u003ctd\u003e0\u003c/td\u003e\n      \u003ctd\u003e0.00\u003c/td\u003e\n      \u003ctd\u003e0.39\u003c/td\u003e\n    \u003c/tr\u003e\n    \u003ctr\u003e\n      \u003cth\u003e37\u003c/th\u003e\n      \u003ctd\u003e4969\u003c/td\u003e\n      \u003ctd\u003eAirlock\u003c/td\u003e\n      \u003ctd\u003e2600\u003c/td\u003e\n      \u003ctd\u003e1981\u003c/td\u003e\n      \u003ctd\u003eAction\u003c/td\u003e\n      \u003ctd\u003eData Age\u003c/td\u003e\n      \u003ctd\u003e0.36\u003c/td\u003e\n      \u003ctd\u003e0.02\u003c/td\u003e\n      \u003ctd\u003e0\u003c/td\u003e\n      \u003ctd\u003e0.00\u003c/td\u003e\n      \u003ctd\u003e0.39\u003c/td\u003e\n    \u003c/tr\u003e\n    \u003ctr\u003e\n      \u003cth\u003e38\u003c/th\u003e\n      \u003ctd\u003e5129\u003c/td\u003e\n      \u003ctd\u003eDragonfire\u003c/td\u003e\n      \u003ctd\u003e2600\u003c/td\u003e\n      \u003ctd\u003e1981\u003c/td\u003e\n      \u003ctd\u003eAction\u003c/td\u003e\n      \u003ctd\u003eImagic\u003c/td\u003e\n      \u003ctd\u003e0.35\u003c/td\u003e\n      \u003ctd\u003e0.02\u003c/td\u003e\n      \u003ctd\u003e0\u003c/td\u003e\n      \u003ctd\u003e0.00\u003c/td\u003e\n      \u003ctd\u003e0.37\u003c/td\u003e\n    \u003c/tr\u003e\n    \u003ctr\u003e\n      \u003cth\u003e39\u003c/th\u003e\n      \u003ctd\u003e5248\u003c/td\u003e\n      \u003ctd\u003eFrogs And Flies\u003c/td\u003e\n      \u003ctd\u003e2600\u003c/td\u003e\n      \u003ctd\u003e1981\u003c/td\u003e\n      \u003ctd\u003eAction\u003c/td\u003e\n      \u003ctd\u003eMattel Interactive\u003c/td\u003e\n      \u003ctd\u003e0.33\u003c/td\u003e\n      \u003ctd\u003e0.02\u003c/td\u003e\n      \u003ctd\u003e0\u003c/td\u003e\n      \u003ctd\u003e0.00\u003c/td\u003e\n      \u003ctd\u003e0.36\u003c/td\u003e\n    \u003c/tr\u003e\n    \u003ctr\u003e\n      \u003cth\u003e40\u003c/th\u003e\n      \u003ctd\u003e5391\u003c/td\u003e\n      \u003ctd\u003eFantastic Voyage\u003c/td\u003e\n      \u003ctd\u003e2600\u003c/td\u003e\n      \u003ctd\u003e1981\u003c/td\u003e\n      \u003ctd\u003eAction\u003c/td\u003e\n      \u003ctd\u003e20th Century Fox Video Games\u003c/td\u003e\n      \u003ctd\u003e0.32\u003c/td\u003e\n      \u003ctd\u003e0.02\u003c/td\u003e\n      \u003ctd\u003e0\u003c/td\u003e\n      \u003ctd\u003e0.00\u003c/td\u003e\n      \u003ctd\u003e0.34\u003c/td\u003e\n    \u003c/tr\u003e\n    \u003ctr\u003e\n      \u003cth\u003e41\u003c/th\u003e\n      \u003ctd\u003e5402\u003c/td\u003e\n      \u003ctd\u003eCarnival\u003c/td\u003e\n      \u003ctd\u003e2600\u003c/td\u003e\n      \u003ctd\u003e1981\u003c/td\u003e\n      \u003ctd\u003eShooter\u003c/td\u003e\n      \u003ctd\u003eColeco\u003c/td\u003e\n      \u003ctd\u003e0.32\u003c/td\u003e\n      \u003ctd\u003e0.02\u003c/td\u003e\n      \u003ctd\u003e0\u003c/td\u003e\n      \u003ctd\u003e0.00\u003c/td\u003e\n      \u003ctd\u003e0.34\u003c/td\u003e\n    \u003c/tr\u003e\n    \u003ctr\u003e\n      \u003cth\u003e42\u003c/th\u003e\n      \u003ctd\u003e5566\u003c/td\u003e\n      \u003ctd\u003eFireball\u003c/td\u003e\n      \u003ctd\u003e2600\u003c/td\u003e\n      \u003ctd\u003e1981\u003c/td\u003e\n      \u003ctd\u003eAction\u003c/td\u003e\n      \u003ctd\u003eStarpath Corp.\u003c/td\u003e\n      \u003ctd\u003e0.30\u003c/td\u003e\n      \u003ctd\u003e0.02\u003c/td\u003e\n      \u003ctd\u003e0\u003c/td\u003e\n      \u003ctd\u003e0.00\u003c/td\u003e\n      \u003ctd\u003e0.33\u003c/td\u003e\n    \u003c/tr\u003e\n    \u003ctr\u003e\n      \u003cth\u003e43\u003c/th\u003e\n      \u003ctd\u003e5802\u003c/td\u003e\n      \u003ctd\u003eAstroblast\u003c/td\u003e\n      \u003ctd\u003e2600\u003c/td\u003e\n      \u003ctd\u003e1981\u003c/td\u003e\n      \u003ctd\u003eAction\u003c/td\u003e\n      \u003ctd\u003eMattel Interactive\u003c/td\u003e\n      \u003ctd\u003e0.29\u003c/td\u003e\n      \u003ctd\u003e0.02\u003c/td\u003e\n      \u003ctd\u003e0\u003c/td\u003e\n      \u003ctd\u003e0.00\u003c/td\u003e\n      \u003ctd\u003e0.31\u003c/td\u003e\n    \u003c/tr\u003e\n    \u003ctr\u003e\n      \u003cth\u003e44\u003c/th\u003e\n      \u003ctd\u003e6023\u003c/td\u003e\n      \u003ctd\u003eFast Food\u003c/td\u003e\n      \u003ctd\u003e2600\u003c/td\u003e\n      \u003ctd\u003e1981\u003c/td\u003e\n      \u003ctd\u003eAction\u003c/td\u003e\n      \u003ctd\u003eUnknown\u003c/td\u003e\n      \u003ctd\u003e0.27\u003c/td\u003e\n      \u003ctd\u003e0.02\u003c/td\u003e\n      \u003ctd\u003e0\u003c/td\u003e\n      \u003ctd\u003e0.00\u003c/td\u003e\n      \u003ctd\u003e0.29\u003c/td\u003e\n    \u003c/tr\u003e\n    \u003ctr\u003e\n      \u003cth\u003e45\u003c/th\u003e\n      \u003ctd\u003e6539\u003c/td\u003e\n      \u003ctd\u003eRealSports Football\u003c/td\u003e\n      \u003ctd\u003e2600\u003c/td\u003e\n      \u003ctd\u003e1981\u003c/td\u003e\n      \u003ctd\u003eSports\u003c/td\u003e\n      \u003ctd\u003eAtari\u003c/td\u003e\n      \u003ctd\u003e0.24\u003c/td\u003e\n      \u003ctd\u003e0.01\u003c/td\u003e\n      \u003ctd\u003e0\u003c/td\u003e\n      \u003ctd\u003e0.00\u003c/td\u003e\n      \u003ctd\u003e0.26\u003c/td\u003e\n    \u003c/tr\u003e\n    \u003ctr\u003e\n      \u003cth\u003e46\u003c/th\u003e\n      \u003ctd\u003e6868\u003c/td\u003e\n      \u003ctd\u003eFront Line\u003c/td\u003e\n      \u003ctd\u003e2600\u003c/td\u003e\n      \u003ctd\u003e1981\u003c/td\u003e\n      \u003ctd\u003eAction\u003c/td\u003e\n      \u003ctd\u003eTaito\u003c/td\u003e\n      \u003ctd\u003e0.22\u003c/td\u003e\n      \u003ctd\u003e0.01\u003c/td\u003e\n      \u003ctd\u003e0\u003c/td\u003e\n      \u003ctd\u003e0.00\u003c/td\u003e\n      \u003ctd\u003e0.24\u003c/td\u003e\n    \u003c/tr\u003e\n    \u003ctr\u003e\n      \u003cth\u003e47\u003c/th\u003e\n      \u003ctd\u003e6942\u003c/td\u003e\n      \u003ctd\u003eDark Cavern\u003c/td\u003e\n      \u003ctd\u003e2600\u003c/td\u003e\n      \u003ctd\u003e1981\u003c/td\u003e\n      \u003ctd\u003eShooter\u003c/td\u003e\n      \u003ctd\u003eMattel Interactive\u003c/td\u003e\n      \u003ctd\u003e0.22\u003c/td\u003e\n      \u003ctd\u003e0.01\u003c/td\u003e\n      \u003ctd\u003e0\u003c/td\u003e\n      \u003ctd\u003e0.00\u003c/td\u003e\n      \u003ctd\u003e0.24\u003c/td\u003e\n    \u003c/tr\u003e\n    \u003ctr\u003e\n      \u003cth\u003e48\u003c/th\u003e\n      \u003ctd\u003e7150\u003c/td\u003e\n      \u003ctd\u003eDeadly Duck\u003c/td\u003e\n      \u003ctd\u003e2600\u003c/td\u003e\n      \u003ctd\u003e1981\u003c/td\u003e\n      \u003ctd\u003eShooter\u003c/td\u003e\n      \u003ctd\u003e20th Century Fox Video Games\u003c/td\u003e\n      \u003ctd\u003e0.21\u003c/td\u003e\n      \u003ctd\u003e0.01\u003c/td\u003e\n      \u003ctd\u003e0\u003c/td\u003e\n      \u003ctd\u003e0.00\u003c/td\u003e\n      \u003ctd\u003e0.22\u003c/td\u003e\n    \u003c/tr\u003e\n  \u003c/tbody\u003e\n\u003c/table\u003e\n\u003c/div\u003e",
                        "text/plain": "    Rank                                Name  Platform  Year       Genre  \\\n0    259                           Asteroids      2600  1980     Shooter   \n1    545                     Missile Command      2600  1980     Shooter   \n2   1768                             Kaboom!      2600  1980        Misc   \n3   1971                            Defender      2600  1980        Misc   \n4   2671                              Boxing      2600  1980    Fighting   \n5   4027                          Ice Hockey      2600  1980      Sports   \n6   5368                             Freeway      2600  1980      Action   \n7   6319                              Bridge      2600  1980        Misc   \n8   6898                            Checkers      2600  1980        Misc   \n9    240                            Pitfall!      2600  1981    Platform   \n10   736                             Frogger      2600  1981      Action   \n11   768                        Demon Attack      2600  1981     Shooter   \n12   866         E.T.: The Extra Terrestrial      2600  1981      Action   \n13  1108                         Ms. Pac-Man      2600  1981      Puzzle   \n14  1155                          River Raid      2600  1981     Shooter   \n15  1308                         Donkey Kong      2600  1981    Platform   \n16  1431                           Centipede      2600  1981     Shooter   \n17  1558                            Atlantis      2600  1981     Shooter   \n18  1850                           Megamania      2600  1981     Shooter   \n19  1967                          Cosmic Ark      2600  1981     Shooter   \n20  2145                  Donkey Kong Junior      2600  1981    Platform   \n21  2234                          Spider-Man      2600  1981      Action   \n22  2518                    Custer's Revenge      2600  1981      Action   \n23  2598                               Alien      2600  1981      Action   \n24  2666                            Air Raid      2600  1981      Action   \n25  2808                             Berzerk      2600  1981     Shooter   \n26  2942                           King Kong      2600  1981      Action   \n27  3046                  Adventures of Tron      2600  1981      Action   \n28  3405                          BurgerTime      2600  1981      Puzzle   \n29  3410  Smurf: Rescue In Gargamel's Castle      2600  1981      Action   \n30  4017             Raiders of the Lost Ark      2600  1981      Action   \n31  4141                          Grand Prix      2600  1981      Racing   \n32  4348                             Phoenix      2600  1981  Simulation   \n33  4404                          Jawbreaker      2600  1981      Action   \n34  4519                        Barnstorming      2600  1981      Action   \n35  4786                          Mouse Trap      2600  1981      Action   \n36  4910                         Laser Blast      2600  1981      Action   \n37  4969                             Airlock      2600  1981      Action   \n38  5129                          Dragonfire      2600  1981      Action   \n39  5248                     Frogs And Flies      2600  1981      Action   \n40  5391                    Fantastic Voyage      2600  1981      Action   \n41  5402                            Carnival      2600  1981     Shooter   \n42  5566                            Fireball      2600  1981      Action   \n43  5802                          Astroblast      2600  1981      Action   \n44  6023                           Fast Food      2600  1981      Action   \n45  6539                 RealSports Football      2600  1981      Sports   \n46  6868                          Front Line      2600  1981      Action   \n47  6942                         Dark Cavern      2600  1981     Shooter   \n48  7150                         Deadly Duck      2600  1981     Shooter   \n\n                       Publisher  NA_Sales  EU_Sales  JP_Sales  Other_Sales  \\\n0                          Atari      4.00      0.26         0         0.05   \n1                          Atari      2.56      0.17         0         0.03   \n2                     Activision      1.07      0.07         0         0.01   \n3                          Atari      0.99      0.05         0         0.01   \n4                     Activision      0.72      0.04         0         0.01   \n5                     Activision      0.46      0.03         0         0.01   \n6                     Activision      0.32      0.02         0         0.00   \n7                     Activision      0.25      0.02         0         0.00   \n8                          Atari      0.22      0.01         0         0.00   \n9                     Activision      4.21      0.24         0         0.05   \n10                  Parker Bros.      2.06      0.12         0         0.02   \n11                        Imagic      1.99      0.12         0         0.02   \n12                         Atari      1.84      0.11         0         0.02   \n13                         Atari      1.54      0.10         0         0.02   \n14                    Activision      1.49      0.09         0         0.02   \n15                        Coleco      1.36      0.08         0         0.02   \n16                         Atari      1.26      0.08         0         0.01   \n17                        Imagic      1.18      0.08         0         0.01   \n18                    Activision      1.03      0.06         0         0.01   \n19                        Imagic      0.99      0.05         0         0.01   \n20                         Atari      0.90      0.05         0         0.01   \n21                  Parker Bros.      0.87      0.05         0         0.01   \n22                      Mystique      0.76      0.05         0         0.01   \n23  20th Century Fox Video Games      0.74      0.04         0         0.01   \n24                  Men-A-Vision      0.72      0.04         0         0.01   \n25                         Atari      0.68      0.04         0         0.01   \n26                   Tigervision      0.65      0.04         0         0.01   \n27            Mattel Interactive      0.63      0.03         0         0.01   \n28            Mattel Interactive      0.55      0.03         0         0.01   \n29                        Coleco      0.55      0.03         0         0.01   \n30                         Atari      0.46      0.03         0         0.01   \n31                    Activision      0.45      0.03         0         0.00   \n32                         Atari      0.42      0.02         0         0.00   \n33                   Tigervision      0.42      0.03         0         0.00   \n34                    Activision      0.40      0.02         0         0.00   \n35                        Coleco      0.38      0.02         0         0.00   \n36                    Activision      0.37      0.02         0         0.00   \n37                      Data Age      0.36      0.02         0         0.00   \n38                        Imagic      0.35      0.02         0         0.00   \n39            Mattel Interactive      0.33      0.02         0         0.00   \n40  20th Century Fox Video Games      0.32      0.02         0         0.00   \n41                        Coleco      0.32      0.02         0         0.00   \n42                Starpath Corp.      0.30      0.02         0         0.00   \n43            Mattel Interactive      0.29      0.02         0         0.00   \n44                       Unknown      0.27      0.02         0         0.00   \n45                         Atari      0.24      0.01         0         0.00   \n46                         Taito      0.22      0.01         0         0.00   \n47            Mattel Interactive      0.22      0.01         0         0.00   \n48  20th Century Fox Video Games      0.21      0.01         0         0.00   \n\n    Global_Sales  \n0           4.31  \n1           2.76  \n2           1.15  \n3           1.05  \n4           0.77  \n5           0.49  \n6           0.34  \n7           0.27  \n8           0.24  \n9           4.50  \n10          2.20  \n11          2.13  \n12          1.97  \n13          1.65  \n14          1.60  \n15          1.46  \n16          1.36  \n17          1.27  \n18          1.10  \n19          1.05  \n20          0.97  \n21          0.93  \n22          0.82  \n23          0.79  \n24          0.77  \n25          0.73  \n26          0.69  \n27          0.67  \n28          0.59  \n29          0.59  \n30          0.50  \n31          0.48  \n32          0.45  \n33          0.45  \n34          0.43  \n35          0.40  \n36          0.39  \n37          0.39  \n38          0.37  \n39          0.36  \n40          0.34  \n41          0.34  \n42          0.33  \n43          0.31  \n44          0.29  \n45          0.26  \n46          0.24  \n47          0.24  \n48          0.22  "
                    },
                    "execution_count": 3,
                    "metadata": {},
                    "output_type": "execute_result"
                }
            ],
            "source": [
                "# Write code below to inspect the data frame\n",
                "df"
            ]
        },
        {
            "cell_type": "code",
            "execution_count": 8,
            "metadata": {},
            "outputs": [
                {
                    "data": {
                        "text/plain": "(49, 11)"
                    },
                    "execution_count": 8,
                    "metadata": {},
                    "output_type": "execute_result"
                }
            ],
            "source": [
                "# Write code below to inspect the shape of the dataset \n",
                "df.shape"
            ]
        },
        {
            "cell_type": "code",
            "execution_count": 6,
            "metadata": {},
            "outputs": [
                {
                    "data": {
                        "text/html": "\u003cdiv\u003e\n\u003cstyle scoped\u003e\n    .dataframe tbody tr th:only-of-type {\n        vertical-align: middle;\n    }\n\n    .dataframe tbody tr th {\n        vertical-align: top;\n    }\n\n    .dataframe thead th {\n        text-align: right;\n    }\n\u003c/style\u003e\n\u003ctable border=\"1\" class=\"dataframe\"\u003e\n  \u003cthead\u003e\n    \u003ctr style=\"text-align: right;\"\u003e\n      \u003cth\u003e\u003c/th\u003e\n      \u003cth\u003eRank\u003c/th\u003e\n      \u003cth\u003ePlatform\u003c/th\u003e\n      \u003cth\u003eYear\u003c/th\u003e\n      \u003cth\u003eNA_Sales\u003c/th\u003e\n      \u003cth\u003eEU_Sales\u003c/th\u003e\n      \u003cth\u003eJP_Sales\u003c/th\u003e\n      \u003cth\u003eOther_Sales\u003c/th\u003e\n      \u003cth\u003eGlobal_Sales\u003c/th\u003e\n    \u003c/tr\u003e\n  \u003c/thead\u003e\n  \u003ctbody\u003e\n    \u003ctr\u003e\n      \u003cth\u003ecount\u003c/th\u003e\n      \u003ctd\u003e49.000000\u003c/td\u003e\n      \u003ctd\u003e49.0\u003c/td\u003e\n      \u003ctd\u003e49.000000\u003c/td\u003e\n      \u003ctd\u003e49.000000\u003c/td\u003e\n      \u003ctd\u003e49.000000\u003c/td\u003e\n      \u003ctd\u003e49.0\u003c/td\u003e\n      \u003ctd\u003e49.00000\u003c/td\u003e\n      \u003ctd\u003e49.000000\u003c/td\u003e\n    \u003c/tr\u003e\n    \u003ctr\u003e\n      \u003cth\u003emean\u003c/th\u003e\n      \u003ctd\u003e3525.285714\u003c/td\u003e\n      \u003ctd\u003e2600.0\u003c/td\u003e\n      \u003ctd\u003e1980.816327\u003c/td\u003e\n      \u003ctd\u003e0.875918\u003c/td\u003e\n      \u003ctd\u003e0.052449\u003c/td\u003e\n      \u003ctd\u003e0.0\u003c/td\u003e\n      \u003ctd\u003e0.00898\u003c/td\u003e\n      \u003ctd\u003e0.938980\u003c/td\u003e\n    \u003c/tr\u003e\n    \u003ctr\u003e\n      \u003cth\u003estd\u003c/th\u003e\n      \u003ctd\u003e2045.688118\u003c/td\u003e\n      \u003ctd\u003e0.0\u003c/td\u003e\n      \u003ctd\u003e0.391230\u003c/td\u003e\n      \u003ctd\u003e0.867467\u003c/td\u003e\n      \u003ctd\u003e0.053795\u003c/td\u003e\n      \u003ctd\u003e0.0\u003c/td\u003e\n      \u003ctd\u003e0.01141\u003c/td\u003e\n      \u003ctd\u003e0.930883\u003c/td\u003e\n    \u003c/tr\u003e\n    \u003ctr\u003e\n      \u003cth\u003emin\u003c/th\u003e\n      \u003ctd\u003e240.000000\u003c/td\u003e\n      \u003ctd\u003e2600.0\u003c/td\u003e\n      \u003ctd\u003e1980.000000\u003c/td\u003e\n      \u003ctd\u003e0.210000\u003c/td\u003e\n      \u003ctd\u003e0.010000\u003c/td\u003e\n      \u003ctd\u003e0.0\u003c/td\u003e\n      \u003ctd\u003e0.00000\u003c/td\u003e\n      \u003ctd\u003e0.220000\u003c/td\u003e\n    \u003c/tr\u003e\n    \u003ctr\u003e\n      \u003cth\u003e25%\u003c/th\u003e\n      \u003ctd\u003e1850.000000\u003c/td\u003e\n      \u003ctd\u003e2600.0\u003c/td\u003e\n      \u003ctd\u003e1981.000000\u003c/td\u003e\n      \u003ctd\u003e0.330000\u003c/td\u003e\n      \u003ctd\u003e0.020000\u003c/td\u003e\n      \u003ctd\u003e0.0\u003c/td\u003e\n      \u003ctd\u003e0.00000\u003c/td\u003e\n      \u003ctd\u003e0.360000\u003c/td\u003e\n    \u003c/tr\u003e\n    \u003ctr\u003e\n      \u003cth\u003e50%\u003c/th\u003e\n      \u003ctd\u003e3405.000000\u003c/td\u003e\n      \u003ctd\u003e2600.0\u003c/td\u003e\n      \u003ctd\u003e1981.000000\u003c/td\u003e\n      \u003ctd\u003e0.550000\u003c/td\u003e\n      \u003ctd\u003e0.030000\u003c/td\u003e\n      \u003ctd\u003e0.0\u003c/td\u003e\n      \u003ctd\u003e0.01000\u003c/td\u003e\n      \u003ctd\u003e0.590000\u003c/td\u003e\n    \u003c/tr\u003e\n    \u003ctr\u003e\n      \u003cth\u003e75%\u003c/th\u003e\n      \u003ctd\u003e5248.000000\u003c/td\u003e\n      \u003ctd\u003e2600.0\u003c/td\u003e\n      \u003ctd\u003e1981.000000\u003c/td\u003e\n      \u003ctd\u003e1.030000\u003c/td\u003e\n      \u003ctd\u003e0.060000\u003c/td\u003e\n      \u003ctd\u003e0.0\u003c/td\u003e\n      \u003ctd\u003e0.01000\u003c/td\u003e\n      \u003ctd\u003e1.100000\u003c/td\u003e\n    \u003c/tr\u003e\n    \u003ctr\u003e\n      \u003cth\u003emax\u003c/th\u003e\n      \u003ctd\u003e7150.000000\u003c/td\u003e\n      \u003ctd\u003e2600.0\u003c/td\u003e\n      \u003ctd\u003e1981.000000\u003c/td\u003e\n      \u003ctd\u003e4.210000\u003c/td\u003e\n      \u003ctd\u003e0.260000\u003c/td\u003e\n      \u003ctd\u003e0.0\u003c/td\u003e\n      \u003ctd\u003e0.05000\u003c/td\u003e\n      \u003ctd\u003e4.500000\u003c/td\u003e\n    \u003c/tr\u003e\n  \u003c/tbody\u003e\n\u003c/table\u003e\n\u003c/div\u003e",
                        "text/plain": "              Rank  Platform         Year   NA_Sales   EU_Sales  JP_Sales  \\\ncount    49.000000      49.0    49.000000  49.000000  49.000000      49.0   \nmean   3525.285714    2600.0  1980.816327   0.875918   0.052449       0.0   \nstd    2045.688118       0.0     0.391230   0.867467   0.053795       0.0   \nmin     240.000000    2600.0  1980.000000   0.210000   0.010000       0.0   \n25%    1850.000000    2600.0  1981.000000   0.330000   0.020000       0.0   \n50%    3405.000000    2600.0  1981.000000   0.550000   0.030000       0.0   \n75%    5248.000000    2600.0  1981.000000   1.030000   0.060000       0.0   \nmax    7150.000000    2600.0  1981.000000   4.210000   0.260000       0.0   \n\n       Other_Sales  Global_Sales  \ncount     49.00000     49.000000  \nmean       0.00898      0.938980  \nstd        0.01141      0.930883  \nmin        0.00000      0.220000  \n25%        0.00000      0.360000  \n50%        0.01000      0.590000  \n75%        0.01000      1.100000  \nmax        0.05000      4.500000  "
                    },
                    "execution_count": 6,
                    "metadata": {},
                    "output_type": "execute_result"
                }
            ],
            "source": [
                "# Write code to inspect some statistical information about each column\n",
                "df.describe()"
            ]
        },
        {
            "cell_type": "code",
            "execution_count": 9,
            "metadata": {},
            "outputs": [
                {
                    "data": {
                        "text/plain": "array([[259, 'Asteroids', 2600, 1980, 'Shooter', 'Atari', 4.0, 0.26, 0,\n        0.05, 4.31],\n       [545, 'Missile Command', 2600, 1980, 'Shooter', 'Atari', 2.56,\n        0.17, 0, 0.03, 2.76],\n       [1768, 'Kaboom!', 2600, 1980, 'Misc', 'Activision', 1.07, 0.07, 0,\n        0.01, 1.15],\n       [1971, 'Defender', 2600, 1980, 'Misc', 'Atari', 0.99, 0.05, 0,\n        0.01, 1.05],\n       [2671, 'Boxing', 2600, 1980, 'Fighting', 'Activision', 0.72, 0.04,\n        0, 0.01, 0.77],\n       [4027, 'Ice Hockey', 2600, 1980, 'Sports', 'Activision', 0.46,\n        0.03, 0, 0.01, 0.49],\n       [5368, 'Freeway', 2600, 1980, 'Action', 'Activision', 0.32, 0.02,\n        0, 0.0, 0.34],\n       [6319, 'Bridge', 2600, 1980, 'Misc', 'Activision', 0.25, 0.02, 0,\n        0.0, 0.27],\n       [6898, 'Checkers', 2600, 1980, 'Misc', 'Atari', 0.22, 0.01, 0,\n        0.0, 0.24],\n       [240, 'Pitfall!', 2600, 1981, 'Platform', 'Activision', 4.21,\n        0.24, 0, 0.05, 4.5],\n       [736, 'Frogger', 2600, 1981, 'Action', 'Parker Bros.', 2.06, 0.12,\n        0, 0.02, 2.2],\n       [768, 'Demon Attack', 2600, 1981, 'Shooter', 'Imagic', 1.99, 0.12,\n        0, 0.02, 2.13],\n       [866, 'E.T.: The Extra Terrestrial', 2600, 1981, 'Action',\n        'Atari', 1.84, 0.11, 0, 0.02, 1.97],\n       [1108, 'Ms. Pac-Man', 2600, 1981, 'Puzzle', 'Atari', 1.54, 0.1, 0,\n        0.02, 1.65],\n       [1155, 'River Raid', 2600, 1981, 'Shooter', 'Activision', 1.49,\n        0.09, 0, 0.02, 1.6],\n       [1308, 'Donkey Kong', 2600, 1981, 'Platform', 'Coleco', 1.36,\n        0.08, 0, 0.02, 1.46],\n       [1431, 'Centipede', 2600, 1981, 'Shooter', 'Atari', 1.26, 0.08, 0,\n        0.01, 1.36],\n       [1558, 'Atlantis', 2600, 1981, 'Shooter', 'Imagic', 1.18, 0.08, 0,\n        0.01, 1.27],\n       [1850, 'Megamania', 2600, 1981, 'Shooter', 'Activision', 1.03,\n        0.06, 0, 0.01, 1.1],\n       [1967, 'Cosmic Ark', 2600, 1981, 'Shooter', 'Imagic', 0.99, 0.05,\n        0, 0.01, 1.05],\n       [2145, 'Donkey Kong Junior', 2600, 1981, 'Platform', 'Atari', 0.9,\n        0.05, 0, 0.01, 0.97],\n       [2234, 'Spider-Man', 2600, 1981, 'Action', 'Parker Bros.', 0.87,\n        0.05, 0, 0.01, 0.93],\n       [2518, \"Custer's Revenge\", 2600, 1981, 'Action', 'Mystique', 0.76,\n        0.05, 0, 0.01, 0.82],\n       [2598, 'Alien', 2600, 1981, 'Action',\n        '20th Century Fox Video Games', 0.74, 0.04, 0, 0.01, 0.79],\n       [2666, 'Air Raid', 2600, 1981, 'Action', 'Men-A-Vision', 0.72,\n        0.04, 0, 0.01, 0.77],\n       [2808, 'Berzerk', 2600, 1981, 'Shooter', 'Atari', 0.68, 0.04, 0,\n        0.01, 0.73],\n       [2942, 'King Kong', 2600, 1981, 'Action', 'Tigervision', 0.65,\n        0.04, 0, 0.01, 0.69],\n       [3046, 'Adventures of Tron', 2600, 1981, 'Action',\n        'Mattel Interactive', 0.63, 0.03, 0, 0.01, 0.67],\n       [3405, 'BurgerTime', 2600, 1981, 'Puzzle', 'Mattel Interactive',\n        0.55, 0.03, 0, 0.01, 0.59],\n       [3410, \"Smurf: Rescue In Gargamel's Castle\", 2600, 1981, 'Action',\n        'Coleco', 0.55, 0.03, 0, 0.01, 0.59],\n       [4017, 'Raiders of the Lost Ark', 2600, 1981, 'Action', 'Atari',\n        0.46, 0.03, 0, 0.01, 0.5],\n       [4141, 'Grand Prix', 2600, 1981, 'Racing', 'Activision', 0.45,\n        0.03, 0, 0.0, 0.48],\n       [4348, 'Phoenix', 2600, 1981, 'Simulation', 'Atari', 0.42, 0.02,\n        0, 0.0, 0.45],\n       [4404, 'Jawbreaker', 2600, 1981, 'Action', 'Tigervision', 0.42,\n        0.03, 0, 0.0, 0.45],\n       [4519, 'Barnstorming', 2600, 1981, 'Action', 'Activision', 0.4,\n        0.02, 0, 0.0, 0.43],\n       [4786, 'Mouse Trap', 2600, 1981, 'Action', 'Coleco', 0.38, 0.02,\n        0, 0.0, 0.4],\n       [4910, 'Laser Blast', 2600, 1981, 'Action', 'Activision', 0.37,\n        0.02, 0, 0.0, 0.39],\n       [4969, 'Airlock', 2600, 1981, 'Action', 'Data Age', 0.36, 0.02, 0,\n        0.0, 0.39],\n       [5129, 'Dragonfire', 2600, 1981, 'Action', 'Imagic', 0.35, 0.02,\n        0, 0.0, 0.37],\n       [5248, 'Frogs And Flies', 2600, 1981, 'Action',\n        'Mattel Interactive', 0.33, 0.02, 0, 0.0, 0.36],\n       [5391, 'Fantastic Voyage', 2600, 1981, 'Action',\n        '20th Century Fox Video Games', 0.32, 0.02, 0, 0.0, 0.34],\n       [5402, 'Carnival', 2600, 1981, 'Shooter', 'Coleco', 0.32, 0.02, 0,\n        0.0, 0.34],\n       [5566, 'Fireball', 2600, 1981, 'Action', 'Starpath Corp.', 0.3,\n        0.02, 0, 0.0, 0.33],\n       [5802, 'Astroblast', 2600, 1981, 'Action', 'Mattel Interactive',\n        0.29, 0.02, 0, 0.0, 0.31],\n       [6023, 'Fast Food', 2600, 1981, 'Action', 'Unknown', 0.27, 0.02,\n        0, 0.0, 0.29],\n       [6539, 'RealSports Football', 2600, 1981, 'Sports', 'Atari', 0.24,\n        0.01, 0, 0.0, 0.26],\n       [6868, 'Front Line', 2600, 1981, 'Action', 'Taito', 0.22, 0.01, 0,\n        0.0, 0.24],\n       [6942, 'Dark Cavern', 2600, 1981, 'Shooter', 'Mattel Interactive',\n        0.22, 0.01, 0, 0.0, 0.24],\n       [7150, 'Deadly Duck', 2600, 1981, 'Shooter',\n        '20th Century Fox Video Games', 0.21, 0.01, 0, 0.0, 0.22]],\n      dtype=object)"
                    },
                    "execution_count": 9,
                    "metadata": {},
                    "output_type": "execute_result"
                }
            ],
            "source": [
                "# Write code to output the values of the data frame\n",
                "df.values"
            ]
        },
        {
            "attachments": {},
            "cell_type": "markdown",
            "metadata": {},
            "source": [
                "To learn more commands available to you in EdStem, please click on 'Commands' "
            ]
        },
        {
            "attachments": {},
            "cell_type": "markdown",
            "metadata": {},
            "source": [
                "# Classification Problem\n",
                "We will follow these steps of solving a machine learning problem.\n",
                "\n",
                "\n",
                "1. Import the Data\n",
                "2. Clean the Data\n",
                "3. split the Data into Training and Testing sets\n",
                "4. Create a Model\n",
                "5. Train the Model\n",
                "6. Make Predictions\n",
                "7. Evaluate and improve\n",
                ""
            ]
        },
        {
            "attachments": {},
            "cell_type": "markdown",
            "metadata": {},
            "source": [
                "# 1. Import the Data."
            ]
        },
        {
            "cell_type": "code",
            "execution_count": 16,
            "metadata": {},
            "outputs": [
                {
                    "data": {
                        "text/html": "\u003cdiv\u003e\n\u003cstyle scoped\u003e\n    .dataframe tbody tr th:only-of-type {\n        vertical-align: middle;\n    }\n\n    .dataframe tbody tr th {\n        vertical-align: top;\n    }\n\n    .dataframe thead th {\n        text-align: right;\n    }\n\u003c/style\u003e\n\u003ctable border=\"1\" class=\"dataframe\"\u003e\n  \u003cthead\u003e\n    \u003ctr style=\"text-align: right;\"\u003e\n      \u003cth\u003e\u003c/th\u003e\n      \u003cth\u003eage\u003c/th\u003e\n      \u003cth\u003egender\u003c/th\u003e\n      \u003cth\u003egenre\u003c/th\u003e\n    \u003c/tr\u003e\n  \u003c/thead\u003e\n  \u003ctbody\u003e\n    \u003ctr\u003e\n      \u003cth\u003e0\u003c/th\u003e\n      \u003ctd\u003e20\u003c/td\u003e\n      \u003ctd\u003e1\u003c/td\u003e\n      \u003ctd\u003eHipHop\u003c/td\u003e\n    \u003c/tr\u003e\n    \u003ctr\u003e\n      \u003cth\u003e1\u003c/th\u003e\n      \u003ctd\u003e23\u003c/td\u003e\n      \u003ctd\u003e1\u003c/td\u003e\n      \u003ctd\u003eHipHop\u003c/td\u003e\n    \u003c/tr\u003e\n    \u003ctr\u003e\n      \u003cth\u003e2\u003c/th\u003e\n      \u003ctd\u003e25\u003c/td\u003e\n      \u003ctd\u003e1\u003c/td\u003e\n      \u003ctd\u003eHipHop\u003c/td\u003e\n    \u003c/tr\u003e\n    \u003ctr\u003e\n      \u003cth\u003e3\u003c/th\u003e\n      \u003ctd\u003e26\u003c/td\u003e\n      \u003ctd\u003e1\u003c/td\u003e\n      \u003ctd\u003eJazz\u003c/td\u003e\n    \u003c/tr\u003e\n    \u003ctr\u003e\n      \u003cth\u003e4\u003c/th\u003e\n      \u003ctd\u003e29\u003c/td\u003e\n      \u003ctd\u003e1\u003c/td\u003e\n      \u003ctd\u003eJazz\u003c/td\u003e\n    \u003c/tr\u003e\n    \u003ctr\u003e\n      \u003cth\u003e5\u003c/th\u003e\n      \u003ctd\u003e30\u003c/td\u003e\n      \u003ctd\u003e1\u003c/td\u003e\n      \u003ctd\u003eJazz\u003c/td\u003e\n    \u003c/tr\u003e\n    \u003ctr\u003e\n      \u003cth\u003e6\u003c/th\u003e\n      \u003ctd\u003e31\u003c/td\u003e\n      \u003ctd\u003e1\u003c/td\u003e\n      \u003ctd\u003eClassical\u003c/td\u003e\n    \u003c/tr\u003e\n    \u003ctr\u003e\n      \u003cth\u003e7\u003c/th\u003e\n      \u003ctd\u003e33\u003c/td\u003e\n      \u003ctd\u003e1\u003c/td\u003e\n      \u003ctd\u003eClassical\u003c/td\u003e\n    \u003c/tr\u003e\n    \u003ctr\u003e\n      \u003cth\u003e8\u003c/th\u003e\n      \u003ctd\u003e37\u003c/td\u003e\n      \u003ctd\u003e1\u003c/td\u003e\n      \u003ctd\u003eClassical\u003c/td\u003e\n    \u003c/tr\u003e\n    \u003ctr\u003e\n      \u003cth\u003e9\u003c/th\u003e\n      \u003ctd\u003e20\u003c/td\u003e\n      \u003ctd\u003e0\u003c/td\u003e\n      \u003ctd\u003eDance\u003c/td\u003e\n    \u003c/tr\u003e\n    \u003ctr\u003e\n      \u003cth\u003e10\u003c/th\u003e\n      \u003ctd\u003e21\u003c/td\u003e\n      \u003ctd\u003e0\u003c/td\u003e\n      \u003ctd\u003eDance\u003c/td\u003e\n    \u003c/tr\u003e\n    \u003ctr\u003e\n      \u003cth\u003e11\u003c/th\u003e\n      \u003ctd\u003e25\u003c/td\u003e\n      \u003ctd\u003e0\u003c/td\u003e\n      \u003ctd\u003eDance\u003c/td\u003e\n    \u003c/tr\u003e\n    \u003ctr\u003e\n      \u003cth\u003e12\u003c/th\u003e\n      \u003ctd\u003e26\u003c/td\u003e\n      \u003ctd\u003e0\u003c/td\u003e\n      \u003ctd\u003eAcoustic\u003c/td\u003e\n    \u003c/tr\u003e\n    \u003ctr\u003e\n      \u003cth\u003e13\u003c/th\u003e\n      \u003ctd\u003e27\u003c/td\u003e\n      \u003ctd\u003e0\u003c/td\u003e\n      \u003ctd\u003eAcoustic\u003c/td\u003e\n    \u003c/tr\u003e\n    \u003ctr\u003e\n      \u003cth\u003e14\u003c/th\u003e\n      \u003ctd\u003e30\u003c/td\u003e\n      \u003ctd\u003e0\u003c/td\u003e\n      \u003ctd\u003eAcoustic\u003c/td\u003e\n    \u003c/tr\u003e\n    \u003ctr\u003e\n      \u003cth\u003e15\u003c/th\u003e\n      \u003ctd\u003e31\u003c/td\u003e\n      \u003ctd\u003e0\u003c/td\u003e\n      \u003ctd\u003eClassical\u003c/td\u003e\n    \u003c/tr\u003e\n    \u003ctr\u003e\n      \u003cth\u003e16\u003c/th\u003e\n      \u003ctd\u003e34\u003c/td\u003e\n      \u003ctd\u003e0\u003c/td\u003e\n      \u003ctd\u003eClassical\u003c/td\u003e\n    \u003c/tr\u003e\n    \u003ctr\u003e\n      \u003cth\u003e17\u003c/th\u003e\n      \u003ctd\u003e35\u003c/td\u003e\n      \u003ctd\u003e0\u003c/td\u003e\n      \u003ctd\u003eClassical\u003c/td\u003e\n    \u003c/tr\u003e\n  \u003c/tbody\u003e\n\u003c/table\u003e\n\u003c/div\u003e",
                        "text/plain": "    age  gender      genre\n0    20       1     HipHop\n1    23       1     HipHop\n2    25       1     HipHop\n3    26       1       Jazz\n4    29       1       Jazz\n5    30       1       Jazz\n6    31       1  Classical\n7    33       1  Classical\n8    37       1  Classical\n9    20       0      Dance\n10   21       0      Dance\n11   25       0      Dance\n12   26       0   Acoustic\n13   27       0   Acoustic\n14   30       0   Acoustic\n15   31       0  Classical\n16   34       0  Classical\n17   35       0  Classical"
                    },
                    "execution_count": 16,
                    "metadata": {},
                    "output_type": "execute_result"
                }
            ],
            "source": [
                "# Using pandas to read in the input file, music.csv saved under SupervisedLearning.\n",
                "# The data file is saved in a data frame object named 'music_data'\n",
                "music_data = pd.read_csv('SupervisedLearning/music.csv')\n",
                "\n",
                "# Write code to inspect music_data data frame\n",
                "music_data"
            ]
        },
        {
            "attachments": {},
            "cell_type": "markdown",
            "metadata": {},
            "source": [
                "# 2. Clean and Prepare the Data"
            ]
        },
        {
            "attachments": {},
            "cell_type": "markdown",
            "metadata": {},
            "source": [
                "The dataset does not contain any null values and doesn't need cleaning. \n",
                "For now, we only need to split data set into input set and output set"
            ]
        },
        {
            "cell_type": "code",
            "execution_count": 17,
            "metadata": {},
            "outputs": [
                {
                    "data": {
                        "text/html": "\u003cdiv\u003e\n\u003cstyle scoped\u003e\n    .dataframe tbody tr th:only-of-type {\n        vertical-align: middle;\n    }\n\n    .dataframe tbody tr th {\n        vertical-align: top;\n    }\n\n    .dataframe thead th {\n        text-align: right;\n    }\n\u003c/style\u003e\n\u003ctable border=\"1\" class=\"dataframe\"\u003e\n  \u003cthead\u003e\n    \u003ctr style=\"text-align: right;\"\u003e\n      \u003cth\u003e\u003c/th\u003e\n      \u003cth\u003eage\u003c/th\u003e\n      \u003cth\u003egender\u003c/th\u003e\n    \u003c/tr\u003e\n  \u003c/thead\u003e\n  \u003ctbody\u003e\n    \u003ctr\u003e\n      \u003cth\u003e0\u003c/th\u003e\n      \u003ctd\u003e20\u003c/td\u003e\n      \u003ctd\u003e1\u003c/td\u003e\n    \u003c/tr\u003e\n    \u003ctr\u003e\n      \u003cth\u003e1\u003c/th\u003e\n      \u003ctd\u003e23\u003c/td\u003e\n      \u003ctd\u003e1\u003c/td\u003e\n    \u003c/tr\u003e\n    \u003ctr\u003e\n      \u003cth\u003e2\u003c/th\u003e\n      \u003ctd\u003e25\u003c/td\u003e\n      \u003ctd\u003e1\u003c/td\u003e\n    \u003c/tr\u003e\n    \u003ctr\u003e\n      \u003cth\u003e3\u003c/th\u003e\n      \u003ctd\u003e26\u003c/td\u003e\n      \u003ctd\u003e1\u003c/td\u003e\n    \u003c/tr\u003e\n    \u003ctr\u003e\n      \u003cth\u003e4\u003c/th\u003e\n      \u003ctd\u003e29\u003c/td\u003e\n      \u003ctd\u003e1\u003c/td\u003e\n    \u003c/tr\u003e\n    \u003ctr\u003e\n      \u003cth\u003e5\u003c/th\u003e\n      \u003ctd\u003e30\u003c/td\u003e\n      \u003ctd\u003e1\u003c/td\u003e\n    \u003c/tr\u003e\n    \u003ctr\u003e\n      \u003cth\u003e6\u003c/th\u003e\n      \u003ctd\u003e31\u003c/td\u003e\n      \u003ctd\u003e1\u003c/td\u003e\n    \u003c/tr\u003e\n    \u003ctr\u003e\n      \u003cth\u003e7\u003c/th\u003e\n      \u003ctd\u003e33\u003c/td\u003e\n      \u003ctd\u003e1\u003c/td\u003e\n    \u003c/tr\u003e\n    \u003ctr\u003e\n      \u003cth\u003e8\u003c/th\u003e\n      \u003ctd\u003e37\u003c/td\u003e\n      \u003ctd\u003e1\u003c/td\u003e\n    \u003c/tr\u003e\n    \u003ctr\u003e\n      \u003cth\u003e9\u003c/th\u003e\n      \u003ctd\u003e20\u003c/td\u003e\n      \u003ctd\u003e0\u003c/td\u003e\n    \u003c/tr\u003e\n    \u003ctr\u003e\n      \u003cth\u003e10\u003c/th\u003e\n      \u003ctd\u003e21\u003c/td\u003e\n      \u003ctd\u003e0\u003c/td\u003e\n    \u003c/tr\u003e\n    \u003ctr\u003e\n      \u003cth\u003e11\u003c/th\u003e\n      \u003ctd\u003e25\u003c/td\u003e\n      \u003ctd\u003e0\u003c/td\u003e\n    \u003c/tr\u003e\n    \u003ctr\u003e\n      \u003cth\u003e12\u003c/th\u003e\n      \u003ctd\u003e26\u003c/td\u003e\n      \u003ctd\u003e0\u003c/td\u003e\n    \u003c/tr\u003e\n    \u003ctr\u003e\n      \u003cth\u003e13\u003c/th\u003e\n      \u003ctd\u003e27\u003c/td\u003e\n      \u003ctd\u003e0\u003c/td\u003e\n    \u003c/tr\u003e\n    \u003ctr\u003e\n      \u003cth\u003e14\u003c/th\u003e\n      \u003ctd\u003e30\u003c/td\u003e\n      \u003ctd\u003e0\u003c/td\u003e\n    \u003c/tr\u003e\n    \u003ctr\u003e\n      \u003cth\u003e15\u003c/th\u003e\n      \u003ctd\u003e31\u003c/td\u003e\n      \u003ctd\u003e0\u003c/td\u003e\n    \u003c/tr\u003e\n    \u003ctr\u003e\n      \u003cth\u003e16\u003c/th\u003e\n      \u003ctd\u003e34\u003c/td\u003e\n      \u003ctd\u003e0\u003c/td\u003e\n    \u003c/tr\u003e\n    \u003ctr\u003e\n      \u003cth\u003e17\u003c/th\u003e\n      \u003ctd\u003e35\u003c/td\u003e\n      \u003ctd\u003e0\u003c/td\u003e\n    \u003c/tr\u003e\n  \u003c/tbody\u003e\n\u003c/table\u003e\n\u003c/div\u003e",
                        "text/plain": "    age  gender\n0    20       1\n1    23       1\n2    25       1\n3    26       1\n4    29       1\n5    30       1\n6    31       1\n7    33       1\n8    37       1\n9    20       0\n10   21       0\n11   25       0\n12   26       0\n13   27       0\n14   30       0\n15   31       0\n16   34       0\n17   35       0"
                    },
                    "execution_count": 17,
                    "metadata": {},
                    "output_type": "execute_result"
                }
            ],
            "source": [
                "# Use the drop function to save the input set in a variable named X\n",
                "X = music_data.drop(columns=['genre'])\n",
                "\n",
                "# Write code to inspect X\n",
                "X"
            ]
        },
        {
            "cell_type": "code",
            "execution_count": 18,
            "metadata": {},
            "outputs": [
                {
                    "data": {
                        "text/plain": "0        HipHop\n1        HipHop\n2        HipHop\n3          Jazz\n4          Jazz\n5          Jazz\n6     Classical\n7     Classical\n8     Classical\n9         Dance\n10        Dance\n11        Dance\n12     Acoustic\n13     Acoustic\n14     Acoustic\n15    Classical\n16    Classical\n17    Classical\nName: genre, dtype: object"
                    },
                    "execution_count": 18,
                    "metadata": {},
                    "output_type": "execute_result"
                }
            ],
            "source": [
                "# Save the output set in a variable named y\n",
                "y = music_data['genre']\n",
                "\n",
                "# Write code to inspect y\n",
                "y"
            ]
        },
        {
            "attachments": {},
            "cell_type": "markdown",
            "metadata": {},
            "source": [
                "# 3. Learn and predict with the decision tree algorithm"
            ]
        },
        {
            "cell_type": "code",
            "execution_count": 20,
            "metadata": {},
            "outputs": [
                {
                    "name": "stderr",
                    "output_type": "stream",
                    "text": "/usr/lib/python3.10/site-packages/sklearn/base.py:450: UserWarning: X does not have valid feature names, but DecisionTreeClassifier was fitted with feature names\n  warnings.warn(\n"
                },
                {
                    "data": {
                        "text/plain": "array(['HipHop', 'Dance'], dtype=object)"
                    },
                    "execution_count": 20,
                    "metadata": {},
                    "output_type": "execute_result"
                }
            ],
            "source": [
                "# Importing the DecisionTreeClassifier package from sklearn\n",
                "from sklearn.tree import DecisionTreeClassifier\n",
                "\n",
                "# Define the decision tree classifier model\n",
                "model = DecisionTreeClassifier()\n",
                "\n",
                "# Fit the model with X and y\n",
                "model.fit(X, y)\n",
                "\n",
                "# With the fitted model, predict two values, a 21 year old male and a 22 year old female\n",
                "predictions = model.predict([[21,1], [22, 0]])\n",
                "\n",
                "\n",
                "# Write code to output the predictions array\n",
                "predictions"
            ]
        },
        {
            "attachments": {},
            "cell_type": "markdown",
            "metadata": {},
            "source": [
                "# 4. Evaluate and Modify the Model"
            ]
        },
        {
            "cell_type": "code",
            "execution_count": 23,
            "metadata": {},
            "outputs": [
                {
                    "data": {
                        "text/plain": "1.0"
                    },
                    "execution_count": 23,
                    "metadata": {},
                    "output_type": "execute_result"
                }
            ],
            "source": [
                "# Import train_test_split and accuracy_score packages from sklearn\n",
                "from sklearn.model_selection import train_test_split\n",
                "from sklearn.metrics import accuracy_score\n",
                "\n",
                "\n",
                "# Train 80% of the data set and use the rest to test\n",
                "X_train, X_test, y_train, y_test = train_test_split(X, y, test_size=0.2)\n",
                "\n",
                "# Define the decision tree classifier model\n",
                "model = DecisionTreeClassifier()\n",
                "\n",
                "# Fit the model with training sets, X_train and y_train\n",
                "model.fit(X_train, y_train)\n",
                "\n",
                "# With the fitted model, predict the testing set, X_test\n",
                "predictions = model.predict(X_test)\n",
                "\n",
                "# Compute model accuracy using the accuracy_score metric from sklearn\n",
                "score = accuracy_score(y_test, predictions)\n",
                "\n",
                "# Write code to output the score value\n",
                "score"
            ]
        },
        {
            "attachments": {},
            "cell_type": "markdown",
            "metadata": {},
            "source": [
                "# 5. Persisting Models"
            ]
        },
        {
            "attachments": {},
            "cell_type": "markdown",
            "metadata": {},
            "source": [
                "a. Save the model to a file"
            ]
        },
        {
            "cell_type": "code",
            "execution_count": 24,
            "metadata": {},
            "outputs": [
                {
                    "data": {
                        "text/plain": "['SupervisedLearning/music-recommender.joblib']"
                    },
                    "execution_count": 24,
                    "metadata": {},
                    "output_type": "execute_result"
                }
            ],
            "source": [
                "# Import the joblib library to save the model for future reuse\n",
                "import joblib\n",
                "\n",
                "# Redefine input and output sets, X and y\n",
                "X = music_data.drop(columns = ['genre'])\n",
                "y = music_data['genre']\n",
                "\n",
                "# Define the decision tree classifier model\n",
                "model = DecisionTreeClassifier()\n",
                "\n",
                "# Fit the model with X and y\n",
                "model.fit(X, y)\n",
                "\n",
                "# Using joblib, write code to save the model \n",
                "# to a file named music-recommender.joblib in the SupervisedLearning folder\n",
                "joblib.dump(model, 'SupervisedLearning/music-recommender.joblib')"
            ]
        },
        {
            "attachments": {},
            "cell_type": "markdown",
            "metadata": {},
            "source": [
                "b. Import the model and make predictions"
            ]
        },
        {
            "cell_type": "code",
            "execution_count": 27,
            "metadata": {},
            "outputs": [
                {
                    "name": "stderr",
                    "output_type": "stream",
                    "text": "/usr/lib/python3.10/site-packages/sklearn/base.py:450: UserWarning: X does not have valid feature names, but DecisionTreeClassifier was fitted with feature names\n  warnings.warn(\n"
                },
                {
                    "data": {
                        "text/plain": "array(['HipHop'], dtype=object)"
                    },
                    "execution_count": 27,
                    "metadata": {},
                    "output_type": "execute_result"
                }
            ],
            "source": [
                "# Make sure that you have run the previous\n",
                "# section 5.a at least once, and that the file 'music-recommender.joblib' exists in the SupervisedLearning folder.\n",
                "\n",
                "# Load saved model\n",
                "model = joblib.load('SupervisedLearning/music-recommender.joblib')\n",
                "\n",
                "# With the fitted model, predict a value\n",
                "predictions = model.predict([[21,1]])\n",
                "\n",
                "\n",
                "# Write code to output the predictions array\n",
                "predictions"
            ]
        },
        {
            "attachments": {},
            "cell_type": "markdown",
            "metadata": {},
            "source": [
                "# 6. Earn Your Wings: Visualize the Decision Tree"
            ]
        },
        {
            "cell_type": "code",
            "execution_count": 28,
            "metadata": {},
            "outputs": [],
            "source": [
                "from sklearn import tree\n",
                "\n",
                "tree.export_graphviz(model, out_file='SupervisedLearning/music-recommender.dot',\n",
                "                     feature_names=['age', 'gender'],\n",
                "                     class_names=sorted(y.unique()),\n",
                "                     label='all',\n",
                "                     rounded=True,\n",
                "                     filled=True)"
            ]
        },
        {
            "attachments": {},
            "cell_type": "markdown",
            "metadata": {},
            "source": [
                "The dot file will be added to the list of files under SupervisedLearning.\n",
                "Please follow the instructions in the tutorial to visualize the tree using VS Code.\n",
                "\n",
                "**Note**: If the graphviz extension in the tutorial does not work for you, please use the other extension in the list (by Joao Pinto).  \n",
                "\n",
                "If you have successfully opened the dot file in VS Code, take a screenshot, upload it into the SupervisedLearning directory, and insert it in the text box below, by using the image icon to embed it."
            ]
        },
        {
            "attachments": {},
            "cell_type": "markdown",
            "metadata": {},
            "source": [
                "![alt text](https://raw.githubusercontent.com/martin-jimenez-01/AI4ALL/main/Screen%20Shot%202022-03-15%20at%206.18.50%20PM.png)"
            ]
        },
        {
            "cell_type": "code",
            "execution_count": 0,
            "metadata": {},
            "outputs": [],
            "source": [
                ""
            ]
        }
    ]
}
